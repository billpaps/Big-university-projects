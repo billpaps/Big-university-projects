{
  "nbformat": 4,
  "nbformat_minor": 0,
  "metadata": {
    "colab": {
      "name": "svm.ipynb",
      "provenance": [],
      "collapsed_sections": []
    },
    "kernelspec": {
      "name": "python3",
      "display_name": "Python 3"
    }
  },
  "cells": [
    {
      "cell_type": "code",
      "metadata": {
        "id": "Dj8vEGrgFprq"
      },
      "source": [
        "import matplotlib.pyplot as plt\n",
        "from matplotlib import style\n",
        "import numpy as np\n",
        "style.use('ggplot')\n",
        "from keras.datasets import mnist\n",
        "import time"
      ],
      "execution_count": null,
      "outputs": []
    },
    {
      "cell_type": "code",
      "metadata": {
        "id": "S28YmFaaFtTW"
      },
      "source": [
        "# load and preprocess labels\n",
        "(x_train, y_train), (x_test, y_test) = mnist.load_data()\n",
        "\n",
        "y_train = y_train.astype('int')\n",
        "y_test = y_test.astype('int')\n",
        "\n",
        "\n",
        "# create two classes with label -1 for even and 1 for odd\n",
        "for i,j in enumerate(y_train):\n",
        "    if (j % 2 == 0):\n",
        "        y_train[i] = -1\n",
        "    else:\n",
        "        y_train[i] = 1\n",
        "\n",
        "for i,j in enumerate(y_test):\n",
        "    if (j % 2 == 0):\n",
        "        y_test[i] = -1\n",
        "    else:\n",
        "        y_test[i] = 1\n"
      ],
      "execution_count": null,
      "outputs": []
    },
    {
      "cell_type": "code",
      "metadata": {
        "id": "ylkmrtqhF1J9"
      },
      "source": [
        "# preprocess data(change shape and normalize)\n",
        "\n",
        "# x_test = x_test.astype('float64')\n",
        "# x_train = x_train.astype('float64')\n",
        "\n",
        "x_train = x_train.reshape(x_train.shape[0],784)\n",
        "x_test = x_test.reshape(x_test.shape[0],784)\n",
        "x_train = x_train / 255\n",
        "\n",
        "x_test = x_test / 255"
      ],
      "execution_count": null,
      "outputs": []
    },
    {
      "cell_type": "code",
      "metadata": {
        "id": "Zxr8yFvxF253"
      },
      "source": [
        "x_train = x_train[:3000]\n",
        "y_train = y_train[:3000]\n",
        "\n",
        "x_test = x_test[:500]\n",
        "y_test = y_test[:500]"
      ],
      "execution_count": null,
      "outputs": []
    },
    {
      "cell_type": "code",
      "metadata": {
        "id": "sTKhcLzBF4_F"
      },
      "source": [
        "# Support Vecrtor Machine implementation using cvxopt for optimization\n",
        "import numpy as np\n",
        "from numpy import linalg\n",
        "import cvxopt\n",
        "import cvxopt.solvers\n",
        "\n",
        "# the kernels that will be used\n",
        "def linear_kernel(x1, x2):\n",
        "    return np.dot(x1, x2)\n",
        "\n",
        "def polynomial_kernel(x, y, p=3):\n",
        "    return (1 + np.dot(x, y)) ** p\n",
        "\n",
        "def gaussian_kernel(x, y, sigma=5.0):\n",
        "    return np.exp(-linalg.norm(x-y)**2 / (2 * (sigma ** 2)))\n",
        "\n",
        "class SupportVectorMachine(object):\n",
        "\n",
        "    def __init__(self, kernel=linear_kernel, C=1):\n",
        "        self.kernel = kernel\n",
        "        self.C = C\n",
        "        \n",
        "\n",
        "    def fit(self, X, y):\n",
        "        n_samples, n_features = X.shape\n",
        "\n",
        "        #the kernel matrix\n",
        "        K = np.zeros((n_samples, n_samples))\n",
        "        for i in range(n_samples):\n",
        "            for j in range(n_samples):\n",
        "                K[i,j] = self.kernel(X[i], X[j])\n",
        "\n",
        "        P = cvxopt.matrix(np.outer(y,y) * K)\n",
        "        q = cvxopt.matrix(np.ones(n_samples) * -1)\n",
        "        A = cvxopt.matrix(y, (1,n_samples))\n",
        "        A = cvxopt.matrix(A, (1, n_samples), 'd')\n",
        "        b = cvxopt.matrix(0.0)\n",
        "\n",
        "        if self.C is None:\n",
        "            G = cvxopt.matrix(np.diag(np.ones(n_samples) * -1))\n",
        "            h = cvxopt.matrix(np.zeros(n_samples))\n",
        "        else:\n",
        "            tmp1 = np.diag(np.ones(n_samples) * -1)\n",
        "            tmp2 = np.identity(n_samples)\n",
        "            G = cvxopt.matrix(np.vstack((tmp1, tmp2)))\n",
        "            tmp1 = np.zeros(n_samples)\n",
        "            tmp2 = np.ones(n_samples) * self.C\n",
        "            h = cvxopt.matrix(np.hstack((tmp1, tmp2)))\n",
        "\n",
        "        # soution of quadratic problem\n",
        "        solution = cvxopt.solvers.qp(P, q, G, h, A, b)\n",
        "\n",
        "        #extract Lagrange multipliers\n",
        "        a = np.ravel(solution['x'])\n",
        "\n",
        "        #find non zero lagrange multipliers that correspond to support vectors \n",
        "        sv = a > 1e-7\n",
        "        ind = np.arange(len(a))[sv]\n",
        "        self.a = a[sv]\n",
        "        self.sv = X[sv]\n",
        "        self.sv_y = y[sv]\n",
        "        \n",
        "        # calculate the bias\n",
        "        self.b = 0\n",
        "        for n in range(len(self.a)):\n",
        "            self.b += self.sv_y[n]\n",
        "            self.b -= np.sum(self.a * self.sv_y * K[ind[n],sv])\n",
        "        self.b /= len(self.a)\n",
        "\n",
        "        # Weight vector if the linear kernel is used\n",
        "        if self.kernel == linear_kernel:\n",
        "            self.w = np.zeros(n_features)\n",
        "            for n in range(len(self.a)):\n",
        "                self.w += self.a[n] * self.sv_y[n] * self.sv[n]\n",
        "        else:\n",
        "            self.w = None\n",
        "    # find the desicion function\n",
        "    def project(self, X):\n",
        "        if self.w is not None:\n",
        "            return np.dot(X, self.w) + self.b\n",
        "        else:\n",
        "            y_predict = np.zeros(len(X))\n",
        "            for i in range(len(X)):\n",
        "                s = 0\n",
        "                for a, sv_y, sv in zip(self.a, self.sv_y, self.sv):\n",
        "                    s += a * sv_y * self.kernel(X[i], sv)\n",
        "                y_predict[i] = s\n",
        "            return y_predict + self.b\n",
        "    # find the sign of the decision function\n",
        "    def predict(self, X):\n",
        "        return np.sign(self.project(X))"
      ],
      "execution_count": null,
      "outputs": []
    },
    {
      "cell_type": "code",
      "metadata": {
        "id": "4qsSe5CbIpRt"
      },
      "source": [
        "#method to find the accuracies\n",
        "def calc_percentage(y_pre, y):\n",
        "  count = 0\n",
        "  for i in range(y_pre.shape[0]):\n",
        "    if y_pre[i] == y[i]:\n",
        "        count += 1\n",
        "  count = count / y_pre.shape[0]\n",
        "  return count\n",
        "\n"
      ],
      "execution_count": null,
      "outputs": []
    },
    {
      "cell_type": "code",
      "metadata": {
        "colab": {
          "base_uri": "https://localhost:8080/"
        },
        "id": "EkmjJs1-GFgV",
        "outputId": "ca4b41ba-6e41-4ee0-ef92-97809884f8d5"
      },
      "source": [
        "# fit svm class\n",
        "start = time.time()\n",
        "svm = SupportVectorMachine(C=1,kernel=gaussian_kernel)\n",
        "svm.fit(x_train, y_train)\n",
        "\n",
        "end = time.time()\n",
        "print(end - start)"
      ],
      "execution_count": null,
      "outputs": [
        {
          "output_type": "stream",
          "text": [
            "     pcost       dcost       gap    pres   dres\n",
            " 0: -3.5364e+02 -5.5675e+03  2e+04  2e+00  5e-15\n",
            " 1: -2.6065e+02 -3.1365e+03  4e+03  2e-01  5e-15\n",
            " 2: -2.9528e+02 -7.7064e+02  5e+02  2e-02  5e-15\n",
            " 3: -3.4808e+02 -5.2578e+02  2e+02  5e-03  5e-15\n",
            " 4: -3.7030e+02 -4.5765e+02  9e+01  2e-03  5e-15\n",
            " 5: -3.8501e+02 -4.1220e+02  3e+01  3e-04  6e-15\n",
            " 6: -3.9106e+02 -3.9714e+02  6e+00  7e-06  6e-15\n",
            " 7: -3.9281e+02 -3.9354e+02  7e-01  4e-07  6e-15\n",
            " 8: -3.9307e+02 -3.9309e+02  2e-02  1e-08  6e-15\n",
            " 9: -3.9308e+02 -3.9308e+02  6e-04  2e-10  6e-15\n",
            "10: -3.9308e+02 -3.9308e+02  2e-05  4e-12  6e-15\n",
            "Optimal solution found.\n",
            "140.23808908462524\n"
          ],
          "name": "stdout"
        }
      ]
    },
    {
      "cell_type": "code",
      "metadata": {
        "colab": {
          "base_uri": "https://localhost:8080/"
        },
        "id": "FbwJx4cyGdk0",
        "outputId": "0e699314-6b01-448b-9e07-3e3dff78caea"
      },
      "source": [
        "# find train and test accuracies\n",
        "predicted_train=svm.predict(x_train)\n",
        "predicted = svm.predict(x_test)\n",
        "per1 = calc_percentage(predicted_train, y_train)\n",
        "per2 = calc_percentage(predicted, y_test)\n",
        "print(\"Train accuracy: \", per1)\n",
        "print(\"Test accuracy: \", per2)"
      ],
      "execution_count": null,
      "outputs": [
        {
          "output_type": "stream",
          "text": [
            "Train accuracy:  0.9946666666666667\n",
            "Test accuracy:  0.976\n"
          ],
          "name": "stdout"
        }
      ]
    },
    {
      "cell_type": "code",
      "metadata": {
        "id": "WCCVXucdIPZ1",
        "colab": {
          "base_uri": "https://localhost:8080/"
        },
        "outputId": "e9f43442-ae05-4e1c-9285-324d7c71fe57"
      },
      "source": [
        "from sklearn.neighbors import KNeighborsClassifier\n",
        "\n",
        "start = time.time()\n",
        "accuracies = []\n",
        "\n",
        "# loop over various values of `k` for the k-Nearest Neighbor classifier\n",
        "for k in range(1,4,2):\n",
        "\t# train the k-Nearest Neighbor classifier with the current value of `k`\n",
        "\tmodel = KNeighborsClassifier(n_neighbors=k)\n",
        "\tmodel.fit(x_train, y_train)\n",
        "\n",
        "\t# evaluate the model and update the accuracies list\n",
        "\tscore = model.score(x_test, y_test)\n",
        "\tprint(\"accuracy= \",  score)\n",
        "\taccuracies.append(score)\n",
        "end = time.time()\n",
        "print(end - start)"
      ],
      "execution_count": null,
      "outputs": [
        {
          "output_type": "stream",
          "text": [
            "accuracy=  0.944\n",
            "accuracy=  0.942\n",
            "5.313709259033203\n"
          ],
          "name": "stdout"
        }
      ]
    },
    {
      "cell_type": "code",
      "metadata": {
        "colab": {
          "base_uri": "https://localhost:8080/"
        },
        "id": "R5hzeuDoPcsz",
        "outputId": "971a9538-26d4-44b4-a951-fef87fcde379"
      },
      "source": [
        "from sklearn.neighbors import NearestCentroid\n",
        "\n",
        "start = time.time()\n",
        "model2 = NearestCentroid()\n",
        "model2.fit(x_train, y_train)\n",
        "\n",
        "score = model2.score(x_test, y_test)\n",
        "print(\"Nearest Centroid, accuracy= \", score)\n",
        "end = time.time()\n",
        "print(end - start)"
      ],
      "execution_count": null,
      "outputs": [
        {
          "output_type": "stream",
          "text": [
            "Nearest Centroid, accuracy=  0.802\n",
            "0.01582956314086914\n"
          ],
          "name": "stdout"
        }
      ]
    },
    {
      "cell_type": "code",
      "metadata": {
        "id": "U9ESWiOASs9Y"
      },
      "source": [
        ""
      ],
      "execution_count": null,
      "outputs": []
    }
  ]
}