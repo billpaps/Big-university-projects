{
  "nbformat": 4,
  "nbformat_minor": 0,
  "metadata": {
    "colab": {
      "name": "rbf_second_edition.ipynb",
      "provenance": [],
      "collapsed_sections": []
    },
    "kernelspec": {
      "name": "python3",
      "display_name": "Python 3"
    },
    "accelerator": "GPU"
  },
  "cells": [
    {
      "cell_type": "code",
      "metadata": {
        "id": "WBpGOWydLhbA"
      },
      "source": [
        "import numpy as np\n",
        "from keras.datasets import mnist\n",
        "import time"
      ],
      "execution_count": null,
      "outputs": []
    },
    {
      "cell_type": "code",
      "metadata": {
        "id": "5P4KQlCYhtcL"
      },
      "source": [
        "def get_distance(x1, x2):\n",
        "    return np.linalg.norm(x1-x2)"
      ],
      "execution_count": null,
      "outputs": []
    },
    {
      "cell_type": "code",
      "metadata": {
        "id": "qKRfdx8Nhx5L"
      },
      "source": [
        "def kmeans(X, k, max_iters):\n",
        "    # k = classes\n",
        "    # X = test_x\n",
        "    centroids = X[np.random.choice(range(len(X)), k, replace=False)]\n",
        "    # centroids = [np.random.uniform(size=len(X[0])) for i in range(k)]\n",
        "\n",
        "    converged = False\n",
        "    current_iter = 0\n",
        "\n",
        "    while (not converged) and (current_iter < max_iters):\n",
        "\n",
        "        cluster_list = [[] for i in range(len(centroids))]\n",
        "\n",
        "        for x in X:  # Go through each data point\n",
        "            distances_list = []\n",
        "            for c in centroids:\n",
        "                distances_list.append(get_distance(c, x))\n",
        "            cluster_list[int(np.argmin(distances_list))].append(x)\n",
        "\n",
        "        cluster_list = list((filter(None, cluster_list)))\n",
        "\n",
        "        prev_centroids = centroids.copy()\n",
        "\n",
        "        centroids = []\n",
        "\n",
        "        for j in range(len(cluster_list)):\n",
        "            centroids.append(np.mean(cluster_list[j], axis=0))\n",
        "\n",
        "        pattern = np.abs(np.sum(prev_centroids) - np.sum(centroids))\n",
        "\n",
        "        # print('K-MEANS: ', int(pattern))\n",
        "\n",
        "        converged = (pattern == 0)\n",
        "\n",
        "        current_iter += 1\n",
        "\n",
        "    return np.array(centroids), [np.std(x) for x in cluster_list]\n"
      ],
      "execution_count": null,
      "outputs": []
    },
    {
      "cell_type": "code",
      "metadata": {
        "id": "OL-OdEZiKcOs"
      },
      "source": [
        "class RBF:\n",
        "\n",
        "  def __init__(self, X, y, tX, ty, classes,\n",
        "                k, std_from_clusters=True):\n",
        "    self.X = X\n",
        "    self.y = y\n",
        "\n",
        "    self.tX = tX\n",
        "    self.ty = ty\n",
        "\n",
        "    self.classes = classes\n",
        "    self.k = k\n",
        "    self.std_from_clusters = std_from_clusters\n",
        "\n",
        "  def convert_to_one_hot(self, x, classes):\n",
        "    arr = np.zeros((len(x), classes))\n",
        "    for i in range(len(x)):\n",
        "        c = int(x[i])\n",
        "        arr[i][c] = 1\n",
        "    return arr\n",
        "\n",
        "  # Gaussian rbf function\n",
        "  def get_rbf(self, x, c, s):\n",
        "    distance = get_distance(x, c)\n",
        "    return 1 / np.exp(-distance / s ** 2)\n",
        "\n",
        "  def get_rbf_as_list(self, X, centroids, std_list):\n",
        "    RBF_list = []\n",
        "    for x in X:\n",
        "        RBF_list.append([self.get_rbf(x, c, s) for (c, s) in zip(centroids, std_list)])\n",
        "    return np.array(RBF_list)\n",
        "\n",
        "  def fit(self):\n",
        "\n",
        "    self.centroids = []*self.k\n",
        "    self.std_list = []*self.k\n",
        "    \n",
        "    if self.std_from_clusters:\n",
        "      self.centroids, self.std_list = kmeans(self.X, self.k, 1000)\n",
        "    else:\n",
        "      for i in range(self.k):\n",
        "        self.centroids.append(self.X[i*2+10,])\n",
        "        self.std_list.append(np.std(self.centroids[i]))\n",
        "      # dMax = np.max([get_distance(c1, c2) for c1 in self.centroids for c2 in self.centroids])\n",
        "      # self.std_list = np.repeat(dMax / np.sqrt(2 * self.k), self.k)\n",
        "\n",
        "\n",
        "    RBF_X = self.get_rbf_as_list(self.X, self.centroids, self.std_list)\n",
        "    self.w = np.linalg.pinv(RBF_X.T @ RBF_X) @ RBF_X.T @ self.convert_to_one_hot(self.y, self.classes)\n",
        "\n",
        "    RBF_list_tst = self.get_rbf_as_list(self.tX, self.centroids, self.std_list)\n",
        "\n",
        "    self.pred_ty = RBF_list_tst @ self.w\n",
        "\n",
        "    self.pred_ty = np.array([np.argmax(x) for x in self.pred_ty])\n",
        "\n",
        "    diff = self.pred_ty - self.ty\n",
        "\n",
        "    print('Accuracy: ', len(np.where(diff == 0)[0]) / len(diff))\n"
      ],
      "execution_count": null,
      "outputs": []
    },
    {
      "cell_type": "code",
      "metadata": {
        "id": "ajzsfYK7KdVg"
      },
      "source": [
        "(train_x, train_y), (test_x, test_y) = mnist.load_data()\n",
        "\n",
        "train_x = train_x[:3000].astype('float').reshape(3000,784)\n",
        "train_y = train_y[:3000].astype('float')\n",
        "\n",
        "test_x = test_x[:300].astype('float').reshape(300,784)\n",
        "test_y = test_y[:300].astype('float')"
      ],
      "execution_count": null,
      "outputs": []
    },
    {
      "cell_type": "code",
      "metadata": {
        "id": "0Zwe9QV6EQal"
      },
      "source": [
        "for i,j in enumerate(train_y):\n",
        "    if (j % 2 == 0):\n",
        "        train_y[i] = 0\n",
        "    else:\n",
        "        train_y[i] = 1\n",
        "\n",
        "for i,j in enumerate(test_y):\n",
        "    if (j % 2 == 0):\n",
        "        test_y[i] = 0\n",
        "    else:\n",
        "        test_y[i] = 1"
      ],
      "execution_count": null,
      "outputs": []
    },
    {
      "cell_type": "code",
      "metadata": {
        "colab": {
          "base_uri": "https://localhost:8080/"
        },
        "id": "SqpSwgMfMC80",
        "outputId": "d85f6b38-eafa-4cff-b7e6-aec7203fc7bf"
      },
      "source": [
        "RBF_CLASSIFIER = RBF(train_x, train_y, test_x, test_y, classes=2,\n",
        "                     k=10, std_from_clusters=False)\n",
        "\n",
        "RBF_CLASSIFIER.fit()"
      ],
      "execution_count": null,
      "outputs": [
        {
          "output_type": "stream",
          "text": [
            "Accuracy:  0.8166666666666667\n"
          ],
          "name": "stdout"
        }
      ]
    },
    {
      "cell_type": "code",
      "metadata": {
        "colab": {
          "base_uri": "https://localhost:8080/"
        },
        "id": "7xzvODEwLSRY",
        "outputId": "41ff5ed6-0eb1-4e12-b3c3-48afce670e0f"
      },
      "source": [
        "start_time = time.time()\n",
        "\n",
        "RBF_CLASSIFIER = RBF(train_x, train_y, test_x, test_y, classes=2,\n",
        "                     k=60, std_from_clusters=True)\n",
        "\n",
        "RBF_CLASSIFIER.fit()\n",
        "\n",
        "print(\"--- %s seconds ---\" % (time.time() - start_time))"
      ],
      "execution_count": null,
      "outputs": [
        {
          "output_type": "stream",
          "text": [
            "Accuracy:  0.8833333333333333\n",
            "--- 35.82745838165283 seconds ---\n"
          ],
          "name": "stdout"
        }
      ]
    },
    {
      "cell_type": "code",
      "metadata": {
        "colab": {
          "base_uri": "https://localhost:8080/"
        },
        "id": "-br0IRd8Ld43",
        "outputId": "4c73a412-3d93-4489-ab36-d474195ab6ab"
      },
      "source": [
        "start_time = time.time()\n",
        "RBF_CLASSIFIER = RBF(train_x, train_y, test_x, test_y, classes=2,\n",
        "                     k=2, std_from_clusters=True)\n",
        "\n",
        "RBF_CLASSIFIER.fit()\n",
        "print(\"--- %s seconds ---\" % (time.time() - start_time))"
      ],
      "execution_count": null,
      "outputs": [
        {
          "output_type": "stream",
          "text": [
            "Accuracy:  0.71\n",
            "--- 3.3110926151275635 seconds ---\n"
          ],
          "name": "stdout"
        }
      ]
    },
    {
      "cell_type": "code",
      "metadata": {
        "colab": {
          "base_uri": "https://localhost:8080/"
        },
        "id": "YkBB1EDWSJTc",
        "outputId": "89f99804-e344-46b3-e238-e1af2695800b"
      },
      "source": [
        "start_time = time.time()\n",
        "RBF_CLASSIFIER = RBF(train_x, train_y, test_x, test_y, classes=2,\n",
        "                     k=60, std_from_clusters=False)\n",
        "\n",
        "RBF_CLASSIFIER.fit()\n",
        "print(\"--- %s seconds ---\" % (time.time() - start_time))"
      ],
      "execution_count": null,
      "outputs": [
        {
          "output_type": "stream",
          "text": [
            "Accuracy:  0.8866666666666667\n",
            "--- 2.4501733779907227 seconds ---\n"
          ],
          "name": "stdout"
        }
      ]
    },
    {
      "cell_type": "code",
      "metadata": {
        "colab": {
          "base_uri": "https://localhost:8080/"
        },
        "id": "UrDYj0V9SM27",
        "outputId": "9e0f2d5b-ad23-4a23-ef2f-6dd619c374b3"
      },
      "source": [
        "start_time = time.time()\n",
        "RBF_CLASSIFIER = RBF(train_x, train_y, test_x, test_y, classes=2,\n",
        "                     k=100, std_from_clusters=True)\n",
        "\n",
        "RBF_CLASSIFIER.fit()\n",
        "print(\"--- %s seconds ---\" % (time.time() - start_time))"
      ],
      "execution_count": null,
      "outputs": [
        {
          "output_type": "stream",
          "text": [
            "Accuracy:  0.9466666666666667\n",
            "--- 60.80492448806763 seconds ---\n"
          ],
          "name": "stdout"
        }
      ]
    },
    {
      "cell_type": "code",
      "metadata": {
        "colab": {
          "base_uri": "https://localhost:8080/"
        },
        "id": "mhB_sEqFT_g7",
        "outputId": "88b45130-d4e2-4d21-b99b-1d39260decd6"
      },
      "source": [
        "start_time = time.time()\n",
        "RBF_CLASSIFIER = RBF(train_x, train_y, test_x, test_y, classes=2,\n",
        "                     k=100, std_from_clusters=False)\n",
        "\n",
        "RBF_CLASSIFIER.fit()\n",
        "print(\"--- %s seconds ---\" % (time.time() - start_time))"
      ],
      "execution_count": null,
      "outputs": [
        {
          "output_type": "stream",
          "text": [
            "Accuracy:  0.9\n",
            "--- 3.971332311630249 seconds ---\n"
          ],
          "name": "stdout"
        }
      ]
    },
    {
      "cell_type": "code",
      "metadata": {
        "colab": {
          "base_uri": "https://localhost:8080/"
        },
        "id": "8EG3ylX6UBci",
        "outputId": "5fb0db46-bbc9-45cc-fe31-037359f16044"
      },
      "source": [
        "start_time = time.time()\n",
        "RBF_CLASSIFIER = RBF(train_x, train_y, test_x, test_y, classes=2,\n",
        "                     k=100, std_from_clusters=False)\n",
        "\n",
        "RBF_CLASSIFIER.fit()\n",
        "print(\"--- %s seconds ---\" % (time.time() - start_time))"
      ],
      "execution_count": null,
      "outputs": [
        {
          "output_type": "stream",
          "text": [
            "Accuracy:  0.9\n",
            "--- 3.96287202835083 seconds ---\n"
          ],
          "name": "stdout"
        }
      ]
    },
    {
      "cell_type": "code",
      "metadata": {
        "colab": {
          "base_uri": "https://localhost:8080/"
        },
        "id": "3zZMi-BVmhrF",
        "outputId": "22ddf7dd-3b41-4292-bdbe-4ecff7af129d"
      },
      "source": [
        "start_time = time.time()\n",
        "RBF_CLASSIFIER = RBF(train_x, train_y, test_x, test_y, classes=2,\n",
        "                     k=10, std_from_clusters=False)\n",
        "\n",
        "RBF_CLASSIFIER.fit()\n",
        "print(\"--- %s seconds ---\" % (time.time() - start_time))"
      ],
      "execution_count": null,
      "outputs": [
        {
          "output_type": "stream",
          "text": [
            "Accuracy:  0.8166666666666667\n",
            "--- 0.46685791015625 seconds ---\n"
          ],
          "name": "stdout"
        }
      ]
    },
    {
      "cell_type": "code",
      "metadata": {
        "colab": {
          "base_uri": "https://localhost:8080/"
        },
        "id": "vmcgE5blz-05",
        "outputId": "7e2c504c-0c8d-4ed6-c731-4b03767622e3"
      },
      "source": [
        "start_time = time.time()\n",
        "RBF_CLASSIFIER = RBF(train_x, train_y, test_x, test_y, classes=2,\n",
        "                     k=10, std_from_clusters=True)\n",
        "\n",
        "RBF_CLASSIFIER.fit()\n",
        "print(\"--- %s seconds ---\" % (time.time() - start_time))"
      ],
      "execution_count": null,
      "outputs": [
        {
          "output_type": "stream",
          "text": [
            "Accuracy:  0.83\n",
            "--- 7.382677316665649 seconds ---\n"
          ],
          "name": "stdout"
        }
      ]
    },
    {
      "cell_type": "code",
      "metadata": {
        "colab": {
          "base_uri": "https://localhost:8080/"
        },
        "id": "sZjOkYOg0A1Y",
        "outputId": "9bc6f23e-69e7-474c-cfe0-126e5f04e2c0"
      },
      "source": [
        "start_time = time.time()\n",
        "RBF_CLASSIFIER = RBF(train_x, train_y, test_x, test_y, classes=2,\n",
        "                     k=1000, std_from_clusters=False)\n",
        "\n",
        "RBF_CLASSIFIER.fit()\n",
        "print(\"--- %s seconds ---\" % (time.time() - start_time))"
      ],
      "execution_count": null,
      "outputs": [
        {
          "output_type": "stream",
          "text": [
            "Accuracy:  0.96\n",
            "--- 40.83595108985901 seconds ---\n"
          ],
          "name": "stdout"
        }
      ]
    },
    {
      "cell_type": "code",
      "metadata": {
        "colab": {
          "base_uri": "https://localhost:8080/"
        },
        "id": "z0iuXbF10i_g",
        "outputId": "1653ad25-aa52-46e5-b067-5b6d04796712"
      },
      "source": [
        "from sklearn.neighbors import KNeighborsClassifier\n",
        "\n",
        "start = time.time()\n",
        "accuracies = []\n",
        "\n",
        "# loop over various values of `k` for the k-Nearest Neighbor classifier\n",
        "for k in range(1,4,2):\n",
        "\t# train the k-Nearest Neighbor classifier with the current value of `k`\n",
        "\tmodel = KNeighborsClassifier(n_neighbors=k)\n",
        "\tmodel.fit(train_x, train_y)\n",
        "\n",
        "\t# evaluate the model and update the accuracies list\n",
        "\tscore = model.score(test_x, test_y)\n",
        "\tprint(\"accuracy= \",  score)\n",
        "\taccuracies.append(score)\n",
        "end = time.time()\n",
        "print(end - start)"
      ],
      "execution_count": null,
      "outputs": [
        {
          "output_type": "stream",
          "text": [
            "accuracy=  0.9333333333333333\n",
            "accuracy=  0.93\n",
            "2.6801791191101074\n"
          ],
          "name": "stdout"
        }
      ]
    },
    {
      "cell_type": "code",
      "metadata": {
        "colab": {
          "base_uri": "https://localhost:8080/"
        },
        "id": "DssuwRNW3g3b",
        "outputId": "f204498e-3ba5-4d2c-b0f5-1c0a28c8980a"
      },
      "source": [
        "from sklearn.neighbors import NearestCentroid\n",
        "\n",
        "start = time.time()\n",
        "model2 = NearestCentroid()\n",
        "model2.fit(train_x, train_y)\n",
        "\n",
        "score = model2.score(test_x, test_y)\n",
        "print(\"Nearest Centroid, accuracy= \", score)\n",
        "end = time.time()\n",
        "print(end - start)"
      ],
      "execution_count": null,
      "outputs": [
        {
          "output_type": "stream",
          "text": [
            "Nearest Centroid, accuracy=  0.8333333333333334\n",
            "0.01533365249633789\n"
          ],
          "name": "stdout"
        }
      ]
    },
    {
      "cell_type": "code",
      "metadata": {
        "id": "hkR5Xmw_30IR"
      },
      "source": [
        ""
      ],
      "execution_count": null,
      "outputs": []
    }
  ]
}